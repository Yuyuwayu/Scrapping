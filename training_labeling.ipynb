{
  "nbformat": 4,
  "nbformat_minor": 0,
  "metadata": {
    "colab": {
      "provenance": [],
      "authorship_tag": "ABX9TyOwwekjba0wE37Wn7F+TKv8",
      "include_colab_link": true
    },
    "kernelspec": {
      "name": "python3",
      "display_name": "Python 3"
    },
    "language_info": {
      "name": "python"
    }
  },
  "cells": [
    {
      "cell_type": "markdown",
      "metadata": {
        "id": "view-in-github",
        "colab_type": "text"
      },
      "source": [
        "<a href=\"https://colab.research.google.com/github/Yuyuwayu/Scrapping/blob/main/training_labeling.ipynb\" target=\"_parent\"><img src=\"https://colab.research.google.com/assets/colab-badge.svg\" alt=\"Open In Colab\"/></a>"
      ]
    },
    {
      "cell_type": "code",
      "source": [
        "import pandas as pd\n",
        "import re\n",
        "from nltk.corpus import stopwords\n",
        "from nltk.tokenize import word_tokenize\n",
        "import nltk"
      ],
      "metadata": {
        "id": "ozuLJuNN27-Z"
      },
      "execution_count": 3,
      "outputs": []
    },
    {
      "cell_type": "code",
      "source": [
        "nltk.download('stopwords')\n",
        "nltk.download('punkt')\n",
        "nltk.download('punkt_tab')"
      ],
      "metadata": {
        "colab": {
          "base_uri": "https://localhost:8080/"
        },
        "id": "lIprw-6u4sqx",
        "outputId": "f0b47a8f-228c-4c42-d0a6-10ab98794a3a"
      },
      "execution_count": 7,
      "outputs": [
        {
          "output_type": "stream",
          "name": "stderr",
          "text": [
            "[nltk_data] Downloading package stopwords to /root/nltk_data...\n",
            "[nltk_data]   Package stopwords is already up-to-date!\n",
            "[nltk_data] Downloading package punkt to /root/nltk_data...\n",
            "[nltk_data]   Package punkt is already up-to-date!\n",
            "[nltk_data] Downloading package punkt_tab to /root/nltk_data...\n",
            "[nltk_data]   Unzipping tokenizers/punkt_tab.zip.\n"
          ]
        },
        {
          "output_type": "execute_result",
          "data": {
            "text/plain": [
              "True"
            ]
          },
          "metadata": {},
          "execution_count": 7
        }
      ]
    },
    {
      "cell_type": "code",
      "source": [
        "# Load dataset\n",
        "df = pd.read_csv('/content/pertamina.csv')\n",
        "\n",
        "# Fungsi untuk membersihkan teks\n",
        "def clean_text(text):\n",
        "    text = str(text).lower()  # Ubah ke lowercase\n",
        "    text = re.sub(r'http\\S+', '', text)  # Hapus URL\n",
        "    text = re.sub(r'@\\S+', '', text)  # Hapus mention\n",
        "    text = re.sub(r'[^a-zA-Z0-9 ]', '', text)  # Hapus karakter spesial\n",
        "    text = re.sub(r'\\s+', ' ', text).strip()  # Hapus spasi berlebih\n",
        "    return text\n",
        "\n",
        "# Terapkan pembersihan teks\n",
        "df['clean_text'] = df['full_text'].apply(clean_text)\n",
        "\n",
        "# Hapus stopwords\n",
        "def remove_stopwords(text):\n",
        "    stop_words = set(stopwords.words('indonesian'))\n",
        "    words = word_tokenize(text)\n",
        "    filtered_text = ' '.join([word for word in words if word not in stop_words])\n",
        "    return filtered_text\n",
        "\n",
        "df['clean_text'] = df['clean_text'].apply(remove_stopwords)\n",
        "\n",
        "# Simpan hasil preprocessing\n",
        "df.to_csv('/content/data_pertamina_cleaned.csv', index=False)\n",
        "\n",
        "print(\"Preprocessing selesai. File disimpan sebagai 'data_pertamina_cleaned.csv'\")\n"
      ],
      "metadata": {
        "colab": {
          "base_uri": "https://localhost:8080/"
        },
        "id": "sUI3yvLo4n-_",
        "outputId": "98fba52d-6c01-42ba-a5d9-4237bc6ae683"
      },
      "execution_count": 24,
      "outputs": [
        {
          "output_type": "stream",
          "name": "stdout",
          "text": [
            "Preprocessing selesai. File disimpan sebagai 'data_pertamina_cleaned.csv'\n"
          ]
        }
      ]
    },
    {
      "cell_type": "code",
      "source": [
        "df = pd.read_csv(file_path)\n",
        "print(df.info())\n",
        "print(df.head())"
      ],
      "metadata": {
        "colab": {
          "base_uri": "https://localhost:8080/"
        },
        "id": "HQOXyapo5PVh",
        "outputId": "3af40050-359d-4f77-80a8-34f94738acad"
      },
      "execution_count": 25,
      "outputs": [
        {
          "output_type": "stream",
          "name": "stdout",
          "text": [
            "<class 'pandas.core.frame.DataFrame'>\n",
            "RangeIndex: 3009 entries, 0 to 3008\n",
            "Data columns (total 17 columns):\n",
            " #   Column                   Non-Null Count  Dtype \n",
            "---  ------                   --------------  ----- \n",
            " 0   conversation_id_str      3009 non-null   int64 \n",
            " 1   created_at               3009 non-null   object\n",
            " 2   favorite_count           3009 non-null   int64 \n",
            " 3   full_text                3009 non-null   object\n",
            " 4   id_str                   3009 non-null   int64 \n",
            " 5   image_url                525 non-null    object\n",
            " 6   in_reply_to_screen_name  2026 non-null   object\n",
            " 7   lang                     3009 non-null   object\n",
            " 8   location                 1399 non-null   object\n",
            " 9   quote_count              3009 non-null   int64 \n",
            " 10  reply_count              3009 non-null   int64 \n",
            " 11  retweet_count            3009 non-null   int64 \n",
            " 12  tweet_url                3009 non-null   object\n",
            " 13  user_id_str              3009 non-null   int64 \n",
            " 14  username                 3009 non-null   object\n",
            " 15  clean_text               3004 non-null   object\n",
            " 16  auto_label               3009 non-null   object\n",
            "dtypes: int64(7), object(10)\n",
            "memory usage: 399.8+ KB\n",
            "None\n",
            "   conversation_id_str                      created_at  favorite_count  \\\n",
            "0  1896732241344286765  Tue Mar 04 23:59:58 +0000 2025               0   \n",
            "1  1897074460030902525  Tue Mar 04 23:59:31 +0000 2025               0   \n",
            "2  1897074398655602890  Tue Mar 04 23:59:17 +0000 2025               0   \n",
            "3  1305853637021765632  Tue Mar 04 23:56:16 +0000 2025               0   \n",
            "4  1896432096216060060  Tue Mar 04 23:55:42 +0000 2025               0   \n",
            "\n",
            "                                           full_text               id_str  \\\n",
            "0  @Maudy_Apain @aharisth @romoatheist @pertamina...  1897074573369336052   \n",
            "1  Sudah dibekali mesin Ducati paling mutakhir pe...  1897074460030902525   \n",
            "2  Opung gak usah didengerin semakin didengerin j...  1897074398655602890   \n",
            "3  @andre_rosiade @jokowi @basuki_btp @pertamina ...  1897073638727385453   \n",
            "4  @KompasTV Ujian ndasmu @pertamina! ini musibah...  1897073499363316022   \n",
            "\n",
            "  image_url in_reply_to_screen_name lang       location  quote_count  \\\n",
            "0       NaN             Maudy_Apain   in  Denpasar Bali            0   \n",
            "1       NaN                     NaN   in      INDONESIA            0   \n",
            "2       NaN                     NaN   in  United States            0   \n",
            "3       NaN           andre_rosiade   in            NaN            0   \n",
            "4       NaN                KompasTV   in            NaN            0   \n",
            "\n",
            "   reply_count  retweet_count  \\\n",
            "0            0              0   \n",
            "1            0              0   \n",
            "2            0              0   \n",
            "3            0              0   \n",
            "4            0              0   \n",
            "\n",
            "                                           tweet_url          user_id_str  \\\n",
            "0  https://x.com/Ngurah_jagat/status/189707457336...            196590905   \n",
            "1  https://x.com/kabar_otomotif/status/1897074460...            267630968   \n",
            "2  https://x.com/Jakerday/status/1897074398655602890           2686157473   \n",
            "3  https://x.com/GenersonBRY/status/1897073638727...             59401313   \n",
            "4  https://x.com/justcurious2574/status/189707349...  1730012320968151040   \n",
            "\n",
            "          username                                         clean_text  \\\n",
            "0     Ngurah_jagat                                             dm elu   \n",
            "1   kabar_otomotif  dibekali mesin ducati mutakhir pembalap pertam...   \n",
            "2         Jakerday  opung gak didengerin didengerin jdnya muncul b...   \n",
            "3      GenersonBRY   bilang ahok ga bersuara borok pertamina suaranya   \n",
            "4  justcurious2574  ujian ndasmu musibah rakyat indonesia sasaran ...   \n",
            "\n",
            "  auto_label  \n",
            "0     netral  \n",
            "1     netral  \n",
            "2     netral  \n",
            "3     netral  \n",
            "4    negatif  \n"
          ]
        }
      ]
    },
    {
      "cell_type": "code",
      "execution_count": 26,
      "metadata": {
        "colab": {
          "base_uri": "https://localhost:8080/"
        },
        "id": "Y2t36sOy1uzC",
        "outputId": "72d87b57-e9c7-4bee-b0b1-a941f7483422"
      },
      "outputs": [
        {
          "output_type": "stream",
          "name": "stdout",
          "text": [
            "Labeling selesai! Data disimpan sebagai labeled_data.csv\n"
          ]
        }
      ],
      "source": [
        "# Daftar kata positif & negatif yang lebih lengkap\n",
        "positive_words = [\n",
        "    \"baik\", \"bagus\", \"mantap\", \"hebat\", \"puas\", \"terbaik\", \"senang\", \"suka\",\n",
        "    \"luar biasa\", \"bangga\", \"cepat\", \"memuaskan\", \"terpercaya\", \"indah\",\n",
        "    \"bersih\", \"ramah\", \"nyaman\", \"solid\", \"pujian\", \"sukses\", \"terjangkau\",\n",
        "    \"mudah\", \"bermanfaat\", \"asik\", \"wow\", \"keren\", \"juara\", \"top\"\n",
        "]\n",
        "\n",
        "negative_words = [\n",
        "    \"buruk\", \"jelek\", \"parah\", \"kecewa\", \"bohong\", \"gagal\", \"masalah\",\n",
        "    \"tidak suka\", \"sampah\", \"lambat\", \"anjing\", \"goblok\", \"tolol\", \"ndasmu\",\n",
        "    \"bajingan\", \"brengsek\", \"kampret\", \"tai\", \"cacat\", \"payah\", \"hancur\",\n",
        "    \"mengecewakan\", \"marah\", \"bodoh\", \"rip\", \"busuk\", \"laknat\", \"brengsek\",\n",
        "    \"babi\", \"tai\", \"haram\", \"bangsat\", \"dungu\", \"males\", \"rip\", \"keparat\",\n",
        "    \"mantap sekali\", \"terima kasih banyak\", \"bagus banget\", \"sangat luar biasa\",\n",
        "    \"hebat parah\", \"terima kasih pertamina\", \"jadi makin kaya\", \"wah keren\",\n",
        "    \"terbaik deh\", \"lanjutkan!\", \"gak sabar nunggu\", \"pasti lebih baik\",\n",
        "    \"gak ada lawan\", \"mantap jiwa\", \"memang top\", \"wow\", \"super\"\n",
        "]\n",
        "\n",
        "# Fungsi untuk memberi label otomatis\n",
        "def auto_label(text):\n",
        "    text = str(text).lower()  # Pastikan teks dalam format string & lowercase\n",
        "    pos_count = sum(word in text for word in positive_words)\n",
        "    neg_count = sum(word in text for word in negative_words)\n",
        "\n",
        "    if pos_count > neg_count:\n",
        "        return \"positif\"\n",
        "    elif neg_count > pos_count:\n",
        "        return \"negatif\"\n",
        "    else:\n",
        "        return \"netral\"\n",
        "\n",
        "# Tambahkan kolom label otomatis\n",
        "df[\"auto_label\"] = df[\"clean_text\"].apply(auto_label)\n",
        "\n",
        "# Simpan hasil\n",
        "df.to_csv(\"/content/labeled_data.csv\", index=False)\n",
        "print(\"Labeling selesai! Data disimpan sebagai labeled_data.csv\")\n"
      ]
    },
    {
      "cell_type": "code",
      "source": [
        "file_path = \"/content/labeled_data.csv\"\n",
        "df = pd.read_csv(file_path)\n",
        "print(df.info())\n",
        "print(df.head())"
      ],
      "metadata": {
        "colab": {
          "base_uri": "https://localhost:8080/"
        },
        "id": "FS-UDcoB61Ri",
        "outputId": "823c5bfd-6973-4f88-e058-888bfc959270"
      },
      "execution_count": 27,
      "outputs": [
        {
          "output_type": "stream",
          "name": "stdout",
          "text": [
            "<class 'pandas.core.frame.DataFrame'>\n",
            "RangeIndex: 3009 entries, 0 to 3008\n",
            "Data columns (total 17 columns):\n",
            " #   Column                   Non-Null Count  Dtype \n",
            "---  ------                   --------------  ----- \n",
            " 0   conversation_id_str      3009 non-null   int64 \n",
            " 1   created_at               3009 non-null   object\n",
            " 2   favorite_count           3009 non-null   int64 \n",
            " 3   full_text                3009 non-null   object\n",
            " 4   id_str                   3009 non-null   int64 \n",
            " 5   image_url                525 non-null    object\n",
            " 6   in_reply_to_screen_name  2026 non-null   object\n",
            " 7   lang                     3009 non-null   object\n",
            " 8   location                 1399 non-null   object\n",
            " 9   quote_count              3009 non-null   int64 \n",
            " 10  reply_count              3009 non-null   int64 \n",
            " 11  retweet_count            3009 non-null   int64 \n",
            " 12  tweet_url                3009 non-null   object\n",
            " 13  user_id_str              3009 non-null   int64 \n",
            " 14  username                 3009 non-null   object\n",
            " 15  clean_text               3004 non-null   object\n",
            " 16  auto_label               3009 non-null   object\n",
            "dtypes: int64(7), object(10)\n",
            "memory usage: 399.8+ KB\n",
            "None\n",
            "   conversation_id_str                      created_at  favorite_count  \\\n",
            "0  1896732241344286765  Tue Mar 04 23:59:58 +0000 2025               0   \n",
            "1  1897074460030902525  Tue Mar 04 23:59:31 +0000 2025               0   \n",
            "2  1897074398655602890  Tue Mar 04 23:59:17 +0000 2025               0   \n",
            "3  1305853637021765632  Tue Mar 04 23:56:16 +0000 2025               0   \n",
            "4  1896432096216060060  Tue Mar 04 23:55:42 +0000 2025               0   \n",
            "\n",
            "                                           full_text               id_str  \\\n",
            "0  @Maudy_Apain @aharisth @romoatheist @pertamina...  1897074573369336052   \n",
            "1  Sudah dibekali mesin Ducati paling mutakhir pe...  1897074460030902525   \n",
            "2  Opung gak usah didengerin semakin didengerin j...  1897074398655602890   \n",
            "3  @andre_rosiade @jokowi @basuki_btp @pertamina ...  1897073638727385453   \n",
            "4  @KompasTV Ujian ndasmu @pertamina! ini musibah...  1897073499363316022   \n",
            "\n",
            "  image_url in_reply_to_screen_name lang       location  quote_count  \\\n",
            "0       NaN             Maudy_Apain   in  Denpasar Bali            0   \n",
            "1       NaN                     NaN   in      INDONESIA            0   \n",
            "2       NaN                     NaN   in  United States            0   \n",
            "3       NaN           andre_rosiade   in            NaN            0   \n",
            "4       NaN                KompasTV   in            NaN            0   \n",
            "\n",
            "   reply_count  retweet_count  \\\n",
            "0            0              0   \n",
            "1            0              0   \n",
            "2            0              0   \n",
            "3            0              0   \n",
            "4            0              0   \n",
            "\n",
            "                                           tweet_url          user_id_str  \\\n",
            "0  https://x.com/Ngurah_jagat/status/189707457336...            196590905   \n",
            "1  https://x.com/kabar_otomotif/status/1897074460...            267630968   \n",
            "2  https://x.com/Jakerday/status/1897074398655602890           2686157473   \n",
            "3  https://x.com/GenersonBRY/status/1897073638727...             59401313   \n",
            "4  https://x.com/justcurious2574/status/189707349...  1730012320968151040   \n",
            "\n",
            "          username                                         clean_text  \\\n",
            "0     Ngurah_jagat                                             dm elu   \n",
            "1   kabar_otomotif  dibekali mesin ducati mutakhir pembalap pertam...   \n",
            "2         Jakerday  opung gak didengerin didengerin jdnya muncul b...   \n",
            "3      GenersonBRY   bilang ahok ga bersuara borok pertamina suaranya   \n",
            "4  justcurious2574  ujian ndasmu musibah rakyat indonesia sasaran ...   \n",
            "\n",
            "  auto_label  \n",
            "0     netral  \n",
            "1     netral  \n",
            "2     netral  \n",
            "3     netral  \n",
            "4    negatif  \n"
          ]
        }
      ]
    },
    {
      "cell_type": "code",
      "source": [
        "print(df[\"auto_label\"].value_counts())"
      ],
      "metadata": {
        "colab": {
          "base_uri": "https://localhost:8080/"
        },
        "id": "FXUXZ5f98FfQ",
        "outputId": "6ab1ae22-c3e4-4566-86e1-2c129489c5a3"
      },
      "execution_count": 28,
      "outputs": [
        {
          "output_type": "stream",
          "name": "stdout",
          "text": [
            "auto_label\n",
            "netral     2343\n",
            "positif     396\n",
            "negatif     270\n",
            "Name: count, dtype: int64\n"
          ]
        }
      ]
    }
  ]
}